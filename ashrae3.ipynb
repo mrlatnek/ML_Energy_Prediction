{
 "cells": [
  {
   "cell_type": "code",
   "execution_count": 79,
   "metadata": {},
   "outputs": [],
   "source": [
    "# Libraries\n",
    "import numpy as np\n",
    "import pandas as pd\n",
    "from pandas.api.types import is_numeric_dtype\n",
    "import matplotlib.pyplot as plt\n",
    "import seaborn as sns\n",
    "import gc\n",
    "from sklearn.linear_model import BayesianRidge\n",
    "from sklearn.model_selection import train_test_split\n",
    "import pprint\n",
    "from patsy import dmatrices\n",
    "from yellowbrick.regressor import ResidualsPlot\n",
    "\n",
    "\n",
    "sns.set()"
   ]
  },
  {
   "cell_type": "code",
   "execution_count": 2,
   "metadata": {},
   "outputs": [
    {
     "name": "stdout",
     "output_type": "stream",
     "text": [
      "<class 'pandas.core.frame.DataFrame'>\n",
      "RangeIndex: 20216100 entries, 0 to 20216099\n",
      "Data columns (total 4 columns):\n",
      "building_id      int64\n",
      "meter            int64\n",
      "timestamp        object\n",
      "meter_reading    float64\n",
      "dtypes: float64(1), int64(2), object(1)\n",
      "memory usage: 616.9+ MB\n"
     ]
    }
   ],
   "source": [
    "# Train data\n",
    "train = pd.read_csv(\"data_files/train.csv\", header = 0)\n",
    "train.info()"
   ]
  },
  {
   "cell_type": "code",
   "execution_count": 3,
   "metadata": {},
   "outputs": [
    {
     "name": "stdout",
     "output_type": "stream",
     "text": [
      "<class 'pandas.core.frame.DataFrame'>\n",
      "RangeIndex: 1449 entries, 0 to 1448\n",
      "Data columns (total 6 columns):\n",
      "site_id        1449 non-null int64\n",
      "building_id    1449 non-null int64\n",
      "primary_use    1449 non-null object\n",
      "square_feet    1449 non-null int64\n",
      "year_built     675 non-null float64\n",
      "floor_count    355 non-null float64\n",
      "dtypes: float64(2), int64(3), object(1)\n",
      "memory usage: 68.0+ KB\n"
     ]
    }
   ],
   "source": [
    "# Building meta data\n",
    "building = pd.read_csv(\"data_files/building_metadata.csv\")\n",
    "building.info()"
   ]
  },
  {
   "cell_type": "code",
   "execution_count": 4,
   "metadata": {},
   "outputs": [
    {
     "name": "stdout",
     "output_type": "stream",
     "text": [
      "<class 'pandas.core.frame.DataFrame'>\n",
      "RangeIndex: 139773 entries, 0 to 139772\n",
      "Data columns (total 9 columns):\n",
      "site_id               139773 non-null int64\n",
      "timestamp             139773 non-null object\n",
      "air_temperature       139718 non-null float64\n",
      "cloud_coverage        70600 non-null float64\n",
      "dew_temperature       139660 non-null float64\n",
      "precip_depth_1_hr     89484 non-null float64\n",
      "sea_level_pressure    129155 non-null float64\n",
      "wind_direction        133505 non-null float64\n",
      "wind_speed            139469 non-null float64\n",
      "dtypes: float64(7), int64(1), object(1)\n",
      "memory usage: 9.6+ MB\n"
     ]
    }
   ],
   "source": [
    "# Weather train data\n",
    "weather_train = pd.read_csv(\"data_files/weather_train.csv\")\n",
    "weather_train.info()"
   ]
  },
  {
   "cell_type": "code",
   "execution_count": 5,
   "metadata": {},
   "outputs": [],
   "source": [
    "del train, building, weather_train\n",
    "_ = gc.collect()"
   ]
  },
  {
   "cell_type": "code",
   "execution_count": 6,
   "metadata": {},
   "outputs": [],
   "source": [
    "def memory_reduction(df):\n",
    "    itypes = [np.int8, np. int16, np.int32, np.int64] \n",
    "    ftypes = [np.float16, np.float32, np.float64]\n",
    "    iinfo = [np.iinfo(t) for t in itypes]\n",
    "    finfo = [np.finfo(t) for t in ftypes]\n",
    "    for col in df:\n",
    "        if is_numeric_dtype(df[col]):\n",
    "            col_max = df[col].max()\n",
    "            col_min = df[col].min()\n",
    "            if np.issubdtype(df[col].dtype, np.integer):\n",
    "                for ii in iinfo:\n",
    "                    if col_min >= ii.min and col_max <= ii.max:\n",
    "                        df[col] = df[col].astype(ii.dtype)\n",
    "                        break\n",
    "            else:\n",
    "                for fi in finfo:\n",
    "                    if col_min >= fi.min and col_max <= fi.max:\n",
    "                        df[col] = df[col].astype(fi.dtype)\n",
    "                        break\n",
    "    return df"
   ]
  },
  {
   "cell_type": "code",
   "execution_count": 7,
   "metadata": {},
   "outputs": [],
   "source": [
    "def load_data(base, task):\n",
    "    data = memory_reduction(pd.read_csv(f\"{base}/{task}.csv\", parse_dates = ['timestamp']))\n",
    "    building = memory_reduction(pd.read_csv(f\"{base}/building_metadata.csv\"))\n",
    "    weather = memory_reduction(pd.read_csv(f\"{base}/weather_{task}.csv\", parse_dates = ['timestamp']))\n",
    "    return data.merge(building.merge(weather, on = \"site_id\", how = \"left\"), how = \"left\", on = [\"building_id\", \"timestamp\"])"
   ]
  },
  {
   "cell_type": "code",
   "execution_count": 8,
   "metadata": {},
   "outputs": [
    {
     "name": "stdout",
     "output_type": "stream",
     "text": [
      "<class 'pandas.core.frame.DataFrame'>\n",
      "Int64Index: 20216100 entries, 0 to 20216099\n",
      "Data columns (total 16 columns):\n",
      "building_id           int16\n",
      "meter                 int8\n",
      "timestamp             datetime64[ns]\n",
      "meter_reading         float32\n",
      "site_id               float64\n",
      "primary_use           object\n",
      "square_feet           float64\n",
      "year_built            float16\n",
      "floor_count           float16\n",
      "air_temperature       float16\n",
      "cloud_coverage        float16\n",
      "dew_temperature       float16\n",
      "precip_depth_1_hr     float16\n",
      "sea_level_pressure    float16\n",
      "wind_direction        float16\n",
      "wind_speed            float16\n",
      "dtypes: datetime64[ns](1), float16(9), float32(1), float64(2), int16(1), int8(1), object(1)\n",
      "memory usage: 1.2+ GB\n"
     ]
    }
   ],
   "source": [
    "train = load_data(\"data_files\", \"train\")\n",
    "train.info()"
   ]
  },
  {
   "cell_type": "code",
   "execution_count": 9,
   "metadata": {},
   "outputs": [
    {
     "name": "stdout",
     "output_type": "stream",
     "text": [
      "<class 'pandas.core.frame.DataFrame'>\n",
      "Int64Index: 41697600 entries, 0 to 41697599\n",
      "Data columns (total 16 columns):\n",
      "row_id                int32\n",
      "building_id           int16\n",
      "meter                 int8\n",
      "timestamp             datetime64[ns]\n",
      "site_id               float64\n",
      "primary_use           object\n",
      "square_feet           float64\n",
      "year_built            float16\n",
      "floor_count           float16\n",
      "air_temperature       float16\n",
      "cloud_coverage        float16\n",
      "dew_temperature       float16\n",
      "precip_depth_1_hr     float16\n",
      "sea_level_pressure    float16\n",
      "wind_direction        float16\n",
      "wind_speed            float16\n",
      "dtypes: datetime64[ns](1), float16(9), float64(2), int16(1), int32(1), int8(1), object(1)\n",
      "memory usage: 2.5+ GB\n"
     ]
    }
   ],
   "source": [
    "test = load_data(\"data_files\", \"test\")\n",
    "test.info()"
   ]
  },
  {
   "cell_type": "code",
   "execution_count": 10,
   "metadata": {},
   "outputs": [],
   "source": [
    "# Meter types as on the competition page\n",
    "meter_type = {0: \"electricity\", 1: \"chilledwater\", 2: \"steam\", 3: \"hotwater\"}"
   ]
  },
  {
   "cell_type": "markdown",
   "metadata": {},
   "source": [
    "## EDA"
   ]
  },
  {
   "cell_type": "markdown",
   "metadata": {},
   "source": [
    "### Null Values"
   ]
  },
  {
   "cell_type": "code",
   "execution_count": 11,
   "metadata": {},
   "outputs": [
    {
     "data": {
      "text/plain": [
       "<matplotlib.axes._subplots.AxesSubplot at 0x1e900269ef0>"
      ]
     },
     "execution_count": 11,
     "metadata": {},
     "output_type": "execute_result"
    },
    {
     "data": {
      "text/plain": [
       "<Figure size 432x288 with 0 Axes>"
      ]
     },
     "metadata": {},
     "output_type": "display_data"
    },
    {
     "data": {
      "image/png": "[encoded data removed]",
      "text/plain": [
       "<Figure size 1440x504 with 1 Axes>"
      ]
     },
     "metadata": {
      "needs_background": "light"
     },
     "output_type": "display_data"
    }
   ],
   "source": [
    "plt.clf()\n",
    "(train.count()/len(train)).sort_values().to_frame(\"train\").merge((test.count()/len(test)).to_frame(\"test\"), left_index = True, right_index = True).plot.bar(title = \"Proportion of non-null values\", figsize = (20, 7))"
   ]
  },
  {
   "cell_type": "markdown",
   "metadata": {},
   "source": [
    "### Target Variable - Meter Reading"
   ]
  },
  {
   "cell_type": "code",
   "execution_count": 12,
   "metadata": {},
   "outputs": [
    {
     "data": {
      "text/plain": [
       "<matplotlib.axes._subplots.AxesSubplot at 0x1e97338ba58>"
      ]
     },
     "execution_count": 12,
     "metadata": {},
     "output_type": "execute_result"
    },
    {
     "data": {
      "image/png": "[encoded data removed]",
      "text/plain": [
       "<Figure size 432x288 with 1 Axes>"
      ]
     },
     "metadata": {
      "needs_background": "light"
     },
     "output_type": "display_data"
    }
   ],
   "source": [
    "plt.clf()\n",
    "sns.distplot(train[\"meter_reading\"])"
   ]
  },
  {
   "cell_type": "markdown",
   "metadata": {},
   "source": [
    "We can't properly visualize \"meter_reading\" due to some very large values which could be outliers. Let's take a log transformation and visualize the meter reading grouped by meter type."
   ]
  },
  {
   "cell_type": "code",
   "execution_count": 13,
   "metadata": {},
   "outputs": [
    {
     "data": {
      "text/plain": [
       "<Figure size 432x288 with 0 Axes>"
      ]
     },
     "metadata": {},
     "output_type": "display_data"
    },
    {
     "data": {
      "image/png": "[encoded data removed]",
      "text/plain": [
       "<Figure size 1440x504 with 4 Axes>"
      ]
     },
     "metadata": {
      "needs_background": "light"
     },
     "output_type": "display_data"
    }
   ],
   "source": [
    "plt.clf()\n",
    "grouped = train[[\"meter\", \"meter_reading\"]].groupby(\"meter\")\n",
    "fig, ax = plt.subplots(2, 2, figsize = (20, 7))\n",
    "plt.subplots_adjust(hspace = 0.5)\n",
    "i = 0\n",
    "for name, group in grouped:\n",
    "    _ = sns.distplot(np.log1p(group['meter_reading']), ax = ax[i%2, i//2], label = name)\n",
    "    ax[i%2, i//2].set_title(\"meter:\" + str(meter_type[name])) \n",
    "    i+=1"
   ]
  },
  {
   "cell_type": "code",
   "execution_count": 14,
   "metadata": {},
   "outputs": [
    {
     "data": {
      "text/plain": [
       "count    2.021610e+07\n",
       "mean     1.988706e+03\n",
       "std      1.532159e+05\n",
       "min      0.000000e+00\n",
       "25%      1.830000e+01\n",
       "50%      7.877500e+01\n",
       "75%      2.679840e+02\n",
       "max      2.190470e+07\n",
       "Name: meter_reading, dtype: float64"
      ]
     },
     "execution_count": 14,
     "metadata": {},
     "output_type": "execute_result"
    }
   ],
   "source": [
    "# Summary of meter readings\n",
    "train['meter_reading'].describe()"
   ]
  },
  {
   "cell_type": "markdown",
   "metadata": {},
   "source": [
    "There seems to be a lot of rows with 0 meter readings. Let's see the proportion of data with 0 meter reading.."
   ]
  },
  {
   "cell_type": "code",
   "execution_count": 15,
   "metadata": {},
   "outputs": [
    {
     "data": {
      "text/plain": [
       "9.27"
      ]
     },
     "execution_count": 15,
     "metadata": {},
     "output_type": "execute_result"
    }
   ],
   "source": [
    "# Percentage of traininig data with 0 meter_reading\n",
    "round(train.loc[train.meter_reading == 0, 'meter_reading'].count()*100/len(train), 2)"
   ]
  },
  {
   "cell_type": "markdown",
   "metadata": {},
   "source": [
    "Checking the distribution of mean meter reading over time..\n",
    "Inspired By [EDA for ASHRAE](https://www.kaggle.com/nroman/eda-for-ashrae)"
   ]
  },
  {
   "cell_type": "code",
   "execution_count": null,
   "metadata": {},
   "outputs": [],
   "source": [
    "# Mean meter reading over time\n",
    "plt.clf()\n",
    "fig, ax = plt.subplots(figsize = (17, 7))\n",
    "train[[\"timestamp\", \"meter_reading\"]].set_index(\"timestamp\").resample(\"H\").mean()[\"meter_reading\"].plot(ax = ax, label = \"Hourly\", color = \"blue\", alpha = 0.5)\n",
    "train[[\"timestamp\", \"meter_reading\"]].set_index(\"timestamp\").resample(\"D\").mean()[\"meter_reading\"].plot(ax = ax, label = \"Daily\", color = \"orange\", alpha = 0.7)\n",
    "train[[\"timestamp\", \"meter_reading\"]].set_index(\"timestamp\").resample(\"W\").mean()[\"meter_reading\"].plot(ax = ax, label = \"Weekly\", color = \"yellow\", alpha = 0.85)\n",
    "train[[\"timestamp\", \"meter_reading\"]].set_index(\"timestamp\").resample(\"M\").mean()[\"meter_reading\"].plot(ax = ax, label = \"Monthly\", color = \"green\", alpha = 1)\n",
    "ax.set_title(\"Mean meter reading over time\")\n",
    "ax.set_ylabel(\"meter reading\")\n",
    "ax.legend(loc = \"best\")"
   ]
  },
  {
   "cell_type": "markdown",
   "metadata": {},
   "source": [
    "The graph has weird surges from the months of May to June and then again around Novemeber. Let's facet the graph using site_id to see if a particular region is responsible for this anomaly."
   ]
  },
  {
   "cell_type": "code",
   "execution_count": null,
   "metadata": {},
   "outputs": [],
   "source": [
    "plt.clf()\n",
    "grouped = train[[\"site_id\", \"timestamp\", \"meter_reading\"]].groupby(\"site_id\")\n",
    "i = 0\n",
    "fig, ax = plt.subplots(8, 2, figsize = (20, 50), dpi = 400)\n",
    "for name, group in grouped:\n",
    "    group.set_index(\"timestamp\").resample(\"H\").mean()[\"meter_reading\"].plot(ax = ax[i%8,i//8], label = \"Hourly\", color = \"blue\", alpha = 0.5)\n",
    "    group.set_index(\"timestamp\").resample(\"D\").mean()[\"meter_reading\"].plot(ax = ax[i%8,i//8], label = \"Daily\", color = \"orange\", alpha = 0.7)\n",
    "    group.set_index(\"timestamp\").resample(\"W\").mean()[\"meter_reading\"].plot(ax = ax[i%8,i//8], label = \"Weekly\", color = \"yellow\", alpha = 0.85)\n",
    "    group.set_index(\"timestamp\").resample(\"M\").mean()[\"meter_reading\"].plot(ax = ax[i%8,i//8], label = \"Monthly\", color = \"green\", alpha = 1)\n",
    "    ax[i%8,i//8].set_title(\"site_id: \" + str(name))\n",
    "    ax[i%8,i//8].set_ylabel(\"meter reading\")\n",
    "    ax[i%8,i//8].legend()\n",
    "    i+=1"
   ]
  },
  {
   "cell_type": "markdown",
   "metadata": {},
   "source": [
    "Of the above graphs, site_id = 13.0 is exactly similar to the graph we got for overall data implying it's heavily skewing the mean meter reading. Let's dig deeper and study the average meter reading of buildings in site 13.0 grouped by their primary_usage key.."
   ]
  },
  {
   "cell_type": "code",
   "execution_count": null,
   "metadata": {},
   "outputs": [],
   "source": [
    "plt.clf()\n",
    "grouped = train.loc[train[\"site_id\"] == 13.0, [\"primary_use\", \"timestamp\", \"meter_reading\"]].groupby(\"primary_use\")\n",
    "i = 0\n",
    "fig, ax = plt.subplots(7, 2, figsize = (20, 50), dpi = 400)\n",
    "for name, group in grouped:\n",
    "    group.set_index(\"timestamp\").resample(\"H\").mean()[\"meter_reading\"].plot(ax = ax[i%7,i//7], label = \"Hourly\", color = \"blue\", alpha = 0.5)\n",
    "    group.set_index(\"timestamp\").resample(\"D\").mean()[\"meter_reading\"].plot(ax = ax[i%7,i//7], label = \"Daily\", color = \"orange\", alpha = 0.7)\n",
    "    group.set_index(\"timestamp\").resample(\"W\").mean()[\"meter_reading\"].plot(ax = ax[i%7,i//7], label = \"Weekly\", color = \"yellow\", alpha = 0.85)\n",
    "    group.set_index(\"timestamp\").resample(\"M\").mean()[\"meter_reading\"].plot(ax = ax[i%7,i//7], label = \"Monthly\", color = \"green\", alpha = 1)\n",
    "    ax[i%7,i//7].set_title(\"primary_use: \" + str(name))\n",
    "    ax[i%7,i//7].set_ylabel(\"meter reading\")\n",
    "    ax[i%7,i//7].legend()\n",
    "    i+=1"
   ]
  },
  {
   "cell_type": "markdown",
   "metadata": {},
   "source": [
    "The average meter reading for educational buildings seems to be the culprit here. Let's dig deeper and find out if it's just one building that's causing these anomalies.."
   ]
  },
  {
   "cell_type": "code",
   "execution_count": null,
   "metadata": {},
   "outputs": [],
   "source": [
    "plt.clf()\n",
    "grouped = train.loc[(train[\"site_id\"] == 13.0) & (train[\"primary_use\"] == \"Education\"), [\"building_id\", \"timestamp\", \"meter_reading\"]].groupby(\"building_id\")\n",
    "i = 0\n",
    "fig, ax = plt.subplots(13, 2, figsize = (20, 50), dpi = 400)\n",
    "for name, group in grouped:\n",
    "    group.set_index(\"timestamp\").resample(\"H\").mean()[\"meter_reading\"].plot(ax = ax[i%13,i//13], label = \"Hourly\", color = \"blue\", alpha = 0.5)\n",
    "    group.set_index(\"timestamp\").resample(\"D\").mean()[\"meter_reading\"].plot(ax = ax[i%13,i//13], label = \"Daily\", color = \"orange\", alpha = 0.7)\n",
    "    group.set_index(\"timestamp\").resample(\"W\").mean()[\"meter_reading\"].plot(ax = ax[i%13,i//13], label = \"Weekly\", color = \"yellow\", alpha = 0.85)\n",
    "    group.set_index(\"timestamp\").resample(\"M\").mean()[\"meter_reading\"].plot(ax = ax[i%13,i//13], label = \"Monthly\", color = \"green\", alpha = 1)\n",
    "    ax[i%13,i//13].set_title(\"building_id\" + str(name))\n",
    "    ax[i%13,i//13].set_ylabel(\"meter reading\")\n",
    "    ax[i%13,i//13].legend()\n",
    "    i+=1"
   ]
  },
  {
   "cell_type": "markdown",
   "metadata": {},
   "source": [
    "The building building_id = \"1099\", site_id = \"13.0\" and primary_use = \"Education\" has very average meter reading which is not seen for other buildings. Let's look at "
   ]
  },
  {
   "cell_type": "code",
   "execution_count": null,
   "metadata": {},
   "outputs": [],
   "source": [
    "train[(train[\"site_id\"] == 13.0) & (train[\"primary_use\"] == \"Education\") & (train[\"building_id\"] == 1099)].describe()"
   ]
  },
  {
   "cell_type": "code",
   "execution_count": null,
   "metadata": {},
   "outputs": [],
   "source": [
    "plt.clf()\n",
    "grouped = train.loc[(train[\"site_id\"] == 13.0) & (train[\"primary_use\"] == \"Education\") & (train[\"building_id\"] == 1099), [\"timestamp\", \"meter\", \"meter_reading\"]].groupby(\"meter\")\n",
    "fig, ax = plt.subplots(2,2, figsize = (20, 7))\n",
    "plt.subplots_adjust(hspace = 0.5)\n",
    "i = 0\n",
    "for name, group in grouped:\n",
    "    group.set_index(\"timestamp\").resample(\"H\").mean()[\"meter_reading\"].plot(ax = ax[i%2,i//2], label = \"Hourly\", color = \"blue\", alpha = 0.5)\n",
    "    group.set_index(\"timestamp\").resample(\"D\").mean()[\"meter_reading\"].plot(ax = ax[i%2,i//2], label = \"Daily\", color = \"orange\", alpha = 0.7)\n",
    "    group.set_index(\"timestamp\").resample(\"W\").mean()[\"meter_reading\"].plot(ax = ax[i%2,i//2], label = \"Weekly\", color = \"yellow\", alpha = 0.85)\n",
    "    group.set_index(\"timestamp\").resample(\"M\").mean()[\"meter_reading\"].plot(ax = ax[i%2,i//2], label = \"Monthly\", color = \"green\", alpha = 1)\n",
    "    ax[i%2,i//2].set_title(\"meter: \" + str(meter_type[name]))\n",
    "    ax[i%2,i//2].set_ylabel(\"meter reading\")\n",
    "    ax[i%2,i//2].legend()\n",
    "    i+=1"
   ]
  },
  {
   "cell_type": "markdown",
   "metadata": {},
   "source": [
    "The steam meter reading for building 1099 is off the charts and skewing the target variable."
   ]
  },
  {
   "cell_type": "markdown",
   "metadata": {},
   "source": [
    "For site_id = \"13.0\" and primary_use = \"Services\", the meter readings were high too. Looking at meter readings in these categories to see if there's an anomaly.."
   ]
  },
  {
   "cell_type": "code",
   "execution_count": null,
   "metadata": {},
   "outputs": [],
   "source": [
    "plt.clf()\n",
    "grouped = train.loc[(train[\"site_id\"] == 13.0) & (train[\"primary_use\"] == \"Services\"), [\"building_id\", \"timestamp\", \"meter_reading\"]].groupby(\"building_id\")\n",
    "i = 0\n",
    "fig, ax = plt.subplots(3, 2, figsize = (20, 20), dpi = 400)\n",
    "for name, group in grouped:\n",
    "    group.set_index(\"timestamp\").resample(\"H\").mean()[\"meter_reading\"].plot(ax = ax[i%3,i//3], label = \"Hourly\", color = \"blue\", alpha = 0.5)\n",
    "    group.set_index(\"timestamp\").resample(\"D\").mean()[\"meter_reading\"].plot(ax = ax[i%3,i//3], label = \"Daily\", color = \"orange\", alpha = 0.7)\n",
    "    group.set_index(\"timestamp\").resample(\"W\").mean()[\"meter_reading\"].plot(ax = ax[i%3,i//3], label = \"Weekly\", color = \"yellow\", alpha = 0.85)\n",
    "    group.set_index(\"timestamp\").resample(\"M\").mean()[\"meter_reading\"].plot(ax = ax[i%3,i//3], label = \"Monthly\", color = \"green\", alpha = 1)\n",
    "    ax[i%3,i//3].set_title(\"building_id: \" + str(name))\n",
    "    ax[i%3,i//3].set_ylabel(\"meter reading\")\n",
    "    ax[i%3,i//3].legend()\n",
    "    i+=1"
   ]
  },
  {
   "cell_type": "markdown",
   "metadata": {},
   "source": [
    "The meter_readings are high for building_id = \"1197\" but it's not too abnormal. We will do further analysis and see if anything comes about it but for now it doesn't seem like an outlier."
   ]
  },
  {
   "cell_type": "markdown",
   "metadata": {},
   "source": [
    "### Explanatory Variables"
   ]
  },
  {
   "cell_type": "markdown",
   "metadata": {},
   "source": [
    "#### Meter"
   ]
  },
  {
   "cell_type": "code",
   "execution_count": null,
   "metadata": {},
   "outputs": [],
   "source": [
    "## Checking the distribution of meter types\n",
    "plt.clf()\n",
    "fig, ax = plt.subplots(1, 1, figsize = (20, 7))\n",
    "trm = train[\"meter\"].map(meter_type).value_counts()\n",
    "tem = test[\"meter\"].map(meter_type).value_counts()\n",
    "ind = np.arange(4)\n",
    "ax.bar(ind, trm.values, color = \"yellow\", width = 0.3, label = \"train\")\n",
    "ax.bar(ind + 0.3, tem.values, color = \"green\", width = 0.3, label = \"test\")\n",
    "ax.set_xticks(ind + 0.3 / 2)\n",
    "ax.set_xticklabels(trm.index)\n",
    "ax.legend()\n",
    "plt.show()"
   ]
  },
  {
   "cell_type": "markdown",
   "metadata": {},
   "source": [
    "#### site_id"
   ]
  },
  {
   "cell_type": "code",
   "execution_count": null,
   "metadata": {},
   "outputs": [],
   "source": [
    "## Checking the distribution of meter types\n",
    "plt.clf()\n",
    "fig, ax = plt.subplots(1, 1, figsize = (20, 7))\n",
    "trm = train[\"site_id\"].value_counts().sort_index()\n",
    "tem = test[\"site_id\"].value_counts().sort_index()\n",
    "# len(trm.index) == len(tem.index)\n",
    "ind = np.arange(16)\n",
    "ax.bar(ind, trm.values, color = \"yellow\", width = 0.3, label = \"train\")\n",
    "ax.bar(ind + 0.3, tem.values, color = \"green\", width = 0.3, label = \"test\")\n",
    "ax.set_xticks(ind + 0.3 / 2)\n",
    "ax.set_xticklabels(trm.index)\n",
    "ax.legend()\n",
    "plt.show()"
   ]
  },
  {
   "cell_type": "markdown",
   "metadata": {},
   "source": [
    "# Analysis"
   ]
  },
  {
   "cell_type": "markdown",
   "metadata": {},
   "source": [
    "For this project, we are just considering the meter reading of electricity meter due to high volume of data. We are going to do a three step analysis:\n",
    "1. We will try to see the affect of building configuration/metadata on meter reading.\n",
    "2. We will incorporate weather and time information and see how these variables, along with the building metadata, affect meter reading\n",
    "3. We will try some complicated model, LightGBM, and see how it fares with the previous simple linear models"
   ]
  },
  {
   "cell_type": "markdown",
   "metadata": {},
   "source": [
    "## Preparing Data for Analysis"
   ]
  },
  {
   "cell_type": "markdown",
   "metadata": {},
   "source": [
    "Since this dataset was taken from a kaggle competition, we don't have meter_readings available for the test dataset. Hence, we will split the train dataset into training set and validation set; the former will be used for training whereas the latter will be used to check the performance of models."
   ]
  },
  {
   "cell_type": "code",
   "execution_count": null,
   "metadata": {},
   "outputs": [],
   "source": [
    "# Deleting the test dataset\n",
    "del test\n",
    "\n",
    "# Garbage collection\n",
    "gc.collect()"
   ]
  },
  {
   "cell_type": "markdown",
   "metadata": {},
   "source": [
    "### Subsetting dataset to get rows for meter == \"electricity\"(0)"
   ]
  },
  {
   "cell_type": "code",
   "execution_count": 9,
   "metadata": {},
   "outputs": [],
   "source": [
    "# Electricity meter readings\n",
    "train = train[train[\"meter\"] == 0]"
   ]
  },
  {
   "cell_type": "markdown",
   "metadata": {},
   "source": [
    "### Missing Data"
   ]
  },
  {
   "cell_type": "markdown",
   "metadata": {},
   "source": [
    "#### Building Metadata"
   ]
  },
  {
   "cell_type": "markdown",
   "metadata": {},
   "source": [
    "##### Square Feat"
   ]
  },
  {
   "cell_type": "code",
   "execution_count": 10,
   "metadata": {},
   "outputs": [
    {
     "name": "stdout",
     "output_type": "stream",
     "text": [
      "Percentage of data with NA in square feet: %d 0.36068588522756573\n"
     ]
    }
   ],
   "source": [
    "print(\"Percentage of data with NA in square feet: %d\", train[\"square_feet\"].isna().sum()*100/len(train))"
   ]
  },
  {
   "cell_type": "markdown",
   "metadata": {},
   "source": [
    "We know that the square feet value for a building will be same for the entire dataset, unless the building was renovated sometime during the time period for which the data is available, hence we can impute missing values with either the unique square feet value of the building or mean of square feat value. "
   ]
  },
  {
   "cell_type": "code",
   "execution_count": 11,
   "metadata": {},
   "outputs": [
    {
     "name": "stdout",
     "output_type": "stream",
     "text": [
      "Buildings with no data for square feet: %d 0\n"
     ]
    }
   ],
   "source": [
    "na_count = train.groupby(\"building_id\")[[\"square_feet\"]].apply(lambda x: x.isna().sum()/len(x)).squeeze()\n",
    "print(\"Buildings with no data for square feet: %d\", len(na_count[na_count == 1]))"
   ]
  },
  {
   "cell_type": "markdown",
   "metadata": {},
   "source": [
    "As we can see, that for every building there's atleast one record that contains the square feet value of the building. We will check now if the square feet value is unique for a particular building."
   ]
  },
  {
   "cell_type": "code",
   "execution_count": 12,
   "metadata": {},
   "outputs": [
    {
     "name": "stdout",
     "output_type": "stream",
     "text": [
      "Buildings with more than 1 value for square feet 0\n"
     ]
    }
   ],
   "source": [
    "unique_count = train.groupby(\"building_id\")[[\"square_feet\"]].apply(lambda x: x.nunique()).squeeze()\n",
    "print(\"Buildings with more than 1 value for square feet\", len(unique_count[unique_count != 1]))"
   ]
  },
  {
   "cell_type": "markdown",
   "metadata": {},
   "source": [
    "Since each building has only one square feet value, we can easily impute the missing values."
   ]
  },
  {
   "cell_type": "code",
   "execution_count": 13,
   "metadata": {},
   "outputs": [],
   "source": [
    "sf_na_mapping = train.groupby(\"building_id\")[[\"square_feet\"]].apply(lambda x: x.max()).squeeze()\n",
    "for bid in sf_na_mapping.index:\n",
    "    train.loc[train[\"building_id\"] == bid, \"square_feet\"] = sf_na_mapping[bid]"
   ]
  },
  {
   "cell_type": "markdown",
   "metadata": {},
   "source": [
    "##### Primary Use"
   ]
  },
  {
   "cell_type": "code",
   "execution_count": 14,
   "metadata": {},
   "outputs": [
    {
     "name": "stdout",
     "output_type": "stream",
     "text": [
      "Percentage of data with NA in primary use: %d 0.36068588522756573\n"
     ]
    }
   ],
   "source": [
    "print(\"Percentage of data with NA in primary use: %d\", train[\"primary_use\"].isna().sum()*100/len(train))"
   ]
  },
  {
   "cell_type": "markdown",
   "metadata": {},
   "source": [
    "We know that the primary value for a building will be same for the entire dataset hence we can impute missing values with the unique primary use value of the building."
   ]
  },
  {
   "cell_type": "code",
   "execution_count": 15,
   "metadata": {},
   "outputs": [
    {
     "name": "stdout",
     "output_type": "stream",
     "text": [
      "Buildings with no data for primary_use: %d 0\n"
     ]
    }
   ],
   "source": [
    "na_count = train.groupby(\"building_id\")[[\"primary_use\"]].apply(lambda x: x.isna().sum()/len(x)).squeeze()\n",
    "print(\"Buildings with no data for primary_use: %d\", len(na_count[na_count == 1]))"
   ]
  },
  {
   "cell_type": "markdown",
   "metadata": {},
   "source": [
    "As we can see, that for every building there's atleast one record that contains the primary use value of the building. We will check now if the primary use value is unique for a particular building."
   ]
  },
  {
   "cell_type": "code",
   "execution_count": 16,
   "metadata": {},
   "outputs": [
    {
     "name": "stdout",
     "output_type": "stream",
     "text": [
      "Buildings with more than 1 value for primary use 0\n"
     ]
    }
   ],
   "source": [
    "unique_count = train.groupby(\"building_id\")[[\"primary_use\"]].apply(lambda x: x.nunique()).squeeze()\n",
    "print(\"Buildings with more than 1 value for primary use\", len(unique_count[unique_count != 1]))"
   ]
  },
  {
   "cell_type": "markdown",
   "metadata": {},
   "source": [
    "Since each building has only one primary use value, we can easily impute the missing values."
   ]
  },
  {
   "cell_type": "code",
   "execution_count": 17,
   "metadata": {},
   "outputs": [
    {
     "data": {
      "text/plain": [
       "<class 'int'>    12060910\n",
       "Name: building_id, dtype: int64"
      ]
     },
     "execution_count": 17,
     "metadata": {},
     "output_type": "execute_result"
    }
   ],
   "source": [
    "# pp.pprint(train[\"building_id\"].unique().tolist())\n",
    "train[\"building_id\"].map(type).value_counts()"
   ]
  },
  {
   "cell_type": "code",
   "execution_count": 18,
   "metadata": {},
   "outputs": [],
   "source": [
    "pu_na_mapping = train.groupby(\"building_id\")[[\"primary_use\"]].apply(lambda x: pd.DataFrame(x.max())).reset_index(level = 1, drop = True).squeeze()\n",
    "for bid in pu_na_mapping.index:\n",
    "    train.loc[train[\"building_id\"] == bid, \"primary_use\"] = pu_na_mapping[bid]"
   ]
  },
  {
   "cell_type": "markdown",
   "metadata": {},
   "source": [
    "##### Floor Count"
   ]
  },
  {
   "cell_type": "code",
   "execution_count": 19,
   "metadata": {},
   "outputs": [
    {
     "name": "stdout",
     "output_type": "stream",
     "text": [
      "Percentage of data with NA in floor count: %d 75.46836018177733\n"
     ]
    }
   ],
   "source": [
    "print(\"Percentage of data with NA in floor count: %d\", train[\"floor_count\"].isna().sum()*100/len(train))"
   ]
  },
  {
   "cell_type": "markdown",
   "metadata": {},
   "source": [
    "Since about $\\frac{3}{4}$ of the records have missing data for floor count, we might have to drop this column."
   ]
  },
  {
   "cell_type": "code",
   "execution_count": 20,
   "metadata": {},
   "outputs": [
    {
     "name": "stdout",
     "output_type": "stream",
     "text": [
      "Buildings with no data for floor count: %d 1061\n"
     ]
    }
   ],
   "source": [
    "na_count = train.groupby(\"building_id\")[[\"floor_count\"]].apply(lambda x: x.isna().sum()/len(x)).squeeze()\n",
    "print(\"Buildings with no data for floor count: %d\", len(na_count[na_count == 1]))"
   ]
  },
  {
   "cell_type": "markdown",
   "metadata": {},
   "source": [
    "As we can see more than a thousand buildings, out of a total of about 1500 buildings for which the dataset has meter_reading records, don't have any information for floor count. Hence, we have decided to drop this field from the dataset for analysis."
   ]
  },
  {
   "cell_type": "markdown",
   "metadata": {},
   "source": [
    "##### Year Built"
   ]
  },
  {
   "cell_type": "code",
   "execution_count": 21,
   "metadata": {},
   "outputs": [
    {
     "name": "stdout",
     "output_type": "stream",
     "text": [
      "Percentage of data with NA in year built: %d 53.94482671705535\n"
     ]
    }
   ],
   "source": [
    "print(\"Percentage of data with NA in year built: %d\", train[\"year_built\"].isna().sum()*100/len(train))"
   ]
  },
  {
   "cell_type": "markdown",
   "metadata": {},
   "source": [
    "Since about $\\frac{1}{2}$ of the records have missing data for floor count, we might have to drop this column."
   ]
  },
  {
   "cell_type": "code",
   "execution_count": 22,
   "metadata": {},
   "outputs": [
    {
     "name": "stdout",
     "output_type": "stream",
     "text": [
      "Buildings with no data for year_built: %d 750\n"
     ]
    }
   ],
   "source": [
    "na_count = train.groupby(\"building_id\")[[\"year_built\"]].apply(lambda x: x.isna().sum()/len(x)).squeeze()\n",
    "print(\"Buildings with no data for year_built: %d\", len(na_count[na_count == 1]))"
   ]
  },
  {
   "cell_type": "markdown",
   "metadata": {},
   "source": [
    "As we can 750 buildings, out of a total of about 1500 buildings for which the dataset has meter_reading records, don't have any information for year built. Hence, we have decided to drop this field from the dataset for analysis."
   ]
  },
  {
   "cell_type": "markdown",
   "metadata": {},
   "source": [
    "#### Weather Data"
   ]
  },
  {
   "cell_type": "markdown",
   "metadata": {},
   "source": [
    "Since the weather data follows time-series, we will sort the dataset by timestamp for easier imputation"
   ]
  },
  {
   "cell_type": "code",
   "execution_count": 26,
   "metadata": {},
   "outputs": [],
   "source": [
    "train.sort_values(by = \"timestamp\", axis = 0, inplace = True)"
   ]
  },
  {
   "cell_type": "markdown",
   "metadata": {},
   "source": [
    "##### Air Temperature"
   ]
  },
  {
   "cell_type": "code",
   "execution_count": 27,
   "metadata": {},
   "outputs": [
    {
     "name": "stdout",
     "output_type": "stream",
     "text": [
      "Percentage of data with NA in air temperature: 0.3923833276261907\n"
     ]
    }
   ],
   "source": [
    "print(\"Percentage of data with NA in air temperature: {0}\".format(train[\"air_temperature\"].isna().sum()*100/len(train)))"
   ]
  },
  {
   "cell_type": "code",
   "execution_count": 28,
   "metadata": {},
   "outputs": [
    {
     "data": {
      "text/plain": [
       "515"
      ]
     },
     "execution_count": 28,
     "metadata": {},
     "output_type": "execute_result"
    }
   ],
   "source": [
    "train.loc[train[\"air_temperature\"].isna(), \"timestamp\"].nunique()"
   ]
  },
  {
   "cell_type": "markdown",
   "metadata": {},
   "source": [
    "##### Cloud Coverage"
   ]
  },
  {
   "cell_type": "code",
   "execution_count": 29,
   "metadata": {},
   "outputs": [
    {
     "name": "stdout",
     "output_type": "stream",
     "text": [
      "Percentage of data with NA in cloud coverage: 44.18946829053529\n"
     ]
    }
   ],
   "source": [
    "print(\"Percentage of data with NA in cloud coverage: {0}\".format(train[\"cloud_coverage\"].isna().sum()*100/len(train)))"
   ]
  },
  {
   "cell_type": "markdown",
   "metadata": {},
   "source": [
    "##### Dew Temperature"
   ]
  },
  {
   "cell_type": "code",
   "execution_count": 30,
   "metadata": {},
   "outputs": [
    {
     "name": "stdout",
     "output_type": "stream",
     "text": [
      "Percentage of data with NA in dew temperature: 0.40702567219223096\n"
     ]
    }
   ],
   "source": [
    "print(\"Percentage of data with NA in dew temperature: {0}\".format(train[\"dew_temperature\"].isna().sum()*100/len(train)))"
   ]
  },
  {
   "cell_type": "markdown",
   "metadata": {},
   "source": [
    "##### Precipitation"
   ]
  },
  {
   "cell_type": "code",
   "execution_count": 31,
   "metadata": {},
   "outputs": [
    {
     "name": "stdout",
     "output_type": "stream",
     "text": [
      "Percentage of data with NA in precipitation: 20.841536832627057\n"
     ]
    }
   ],
   "source": [
    "print(\"Percentage of data with NA in precipitation: {0}\".format(train[\"precip_depth_1_hr\"].isna().sum()*100/len(train)))"
   ]
  },
  {
   "cell_type": "markdown",
   "metadata": {},
   "source": [
    "##### Sea Level Pressure"
   ]
  },
  {
   "cell_type": "code",
   "execution_count": 32,
   "metadata": {},
   "outputs": [
    {
     "name": "stdout",
     "output_type": "stream",
     "text": [
      "Percentage of data with NA in sea level pressure: 8.443666356850354\n"
     ]
    }
   ],
   "source": [
    "print(\"Percentage of data with NA in sea level pressure: {0}\".format(train[\"sea_level_pressure\"].isna().sum()*100/len(train)))"
   ]
  },
  {
   "cell_type": "markdown",
   "metadata": {},
   "source": [
    "##### Wind Direction"
   ]
  },
  {
   "cell_type": "code",
   "execution_count": 33,
   "metadata": {},
   "outputs": [
    {
     "name": "stdout",
     "output_type": "stream",
     "text": [
      "Percentage of data with NA in wind direction: 5.627394616160804\n"
     ]
    }
   ],
   "source": [
    "print(\"Percentage of data with NA in wind direction: {0}\".format(train[\"wind_direction\"].isna().sum()*100/len(train)))"
   ]
  },
  {
   "cell_type": "markdown",
   "metadata": {},
   "source": [
    "##### Wind Speed"
   ]
  },
  {
   "cell_type": "code",
   "execution_count": 34,
   "metadata": {},
   "outputs": [
    {
     "name": "stdout",
     "output_type": "stream",
     "text": [
      "Percentage of data with NA in wind speed: 0.5538139327795332\n"
     ]
    }
   ],
   "source": [
    "print(\"Percentage of data with NA in wind speed: {0}\".format(train[\"wind_speed\"].isna().sum()*100/len(train)))"
   ]
  },
  {
   "cell_type": "markdown",
   "metadata": {},
   "source": [
    "#### Splitting the datset"
   ]
  },
  {
   "cell_type": "code",
   "execution_count": 35,
   "metadata": {},
   "outputs": [],
   "source": [
    "# Train validation split\n",
    "train, valid = train_test_split(train, train_size = 0.8)"
   ]
  },
  {
   "cell_type": "markdown",
   "metadata": {},
   "source": [
    "### Modeling"
   ]
  },
  {
   "cell_type": "markdown",
   "metadata": {},
   "source": [
    "#### Building Metadata Vs. Meter Reading"
   ]
  },
  {
   "cell_type": "markdown",
   "metadata": {},
   "source": [
    "##### Meter reading from primary use of building"
   ]
  },
  {
   "cell_type": "code",
   "execution_count": 53,
   "metadata": {},
   "outputs": [],
   "source": [
    "train_pu = train[[\"meter_reading\", \"primary_use\"]]\n",
    "valid_pu = valid[[\"meter_reading\", \"primary_use\"]]\n",
    "train_pu_d = pd.get_dummies(train_pu)\n",
    "valid_pu_d = pd.get_dummies(valid_pu)"
   ]
  },
  {
   "cell_type": "code",
   "execution_count": 54,
   "metadata": {},
   "outputs": [
    {
     "data": {
      "text/plain": [
       "BayesianRidge(alpha_1=1e-06, alpha_2=1e-06, compute_score=False, copy_X=True,\n",
       "              fit_intercept=False, lambda_1=1e-06, lambda_2=1e-06, n_iter=300,\n",
       "              normalize=False, tol=0.001, verbose=False)"
      ]
     },
     "execution_count": 54,
     "metadata": {},
     "output_type": "execute_result"
    }
   ],
   "source": [
    "model_pu = BayesianRidge(fit_intercept = False)\n",
    "model_pu.fit(train_pu_d.drop(\"meter_reading\", axis = 1), train_pu_d[\"meter_reading\"])"
   ]
  },
  {
   "cell_type": "code",
   "execution_count": 55,
   "metadata": {},
   "outputs": [
    {
     "name": "stdout",
     "output_type": "stream",
     "text": [
      "Model Coefficients:\n",
      "{'primary_use_Education': 244.76589496003103,\n",
      " 'primary_use_Entertainment/public assembly': 116.47960201410467,\n",
      " 'primary_use_Food sales and service': 94.58168579720181,\n",
      " 'primary_use_Healthcare': 297.34443564644005,\n",
      " 'primary_use_Lodging/residential': 108.76541692511391,\n",
      " 'primary_use_Manufacturing/industrial': 90.64951024855482,\n",
      " 'primary_use_Office': 157.72370739287126,\n",
      " 'primary_use_Other': 69.35677130104713,\n",
      " 'primary_use_Parking': 58.64252687296813,\n",
      " 'primary_use_Public services': 98.72847898721025,\n",
      " 'primary_use_Religious worship': 4.5625017912307095,\n",
      " 'primary_use_Retail': 139.1690703429593,\n",
      " 'primary_use_Services': 92.4792739543949,\n",
      " 'primary_use_Technology/science': 107.3850522043574,\n",
      " 'primary_use_Utility': 171.4901535400245,\n",
      " 'primary_use_Warehouse/storage': 51.55774316260755}\n"
     ]
    }
   ],
   "source": [
    "pp = pprint.PrettyPrinter()\n",
    "print('Model Coefficients:')\n",
    "pp.pprint({col: coef for col, coef in zip(train_pu_d.columns[1:], model_pu.coef_)})"
   ]
  },
  {
   "cell_type": "code",
   "execution_count": 56,
   "metadata": {},
   "outputs": [
    {
     "data": {
      "text/plain": [
       "0.02940677386507695"
      ]
     },
     "execution_count": 56,
     "metadata": {},
     "output_type": "execute_result"
    }
   ],
   "source": [
    "model_pu.score(valid_pu_d.drop(\"meter_reading\", axis = 1), valid_pu_d[\"meter_reading\"])"
   ]
  },
  {
   "cell_type": "code",
   "execution_count": null,
   "metadata": {},
   "outputs": [],
   "source": [
    "del model_pu\n",
    "gc.collect()"
   ]
  },
  {
   "cell_type": "code",
   "execution_count": null,
   "metadata": {},
   "outputs": [],
   "source": [
    "# Residual Plot\n",
    "model_pu = BayesianRidge(fit_intercept=False)\n",
    "visualizer = ResidualsPlot(model_pu)\n",
    "\n",
    "visualizer.fit(train_pu_d.drop(\"meter_reading\", axis = 1), train_pu_d[\"meter_reading\"])\n",
    "visualizer.score(valid_pu_d.drop(\"meter_reading\", axis = 1), valid_pu_d[\"meter_reading\"])\n",
    "visualizer.show()   "
   ]
  },
  {
   "cell_type": "code",
   "execution_count": 57,
   "metadata": {},
   "outputs": [
    {
     "data": {
      "text/plain": [
       "79"
      ]
     },
     "execution_count": 57,
     "metadata": {},
     "output_type": "execute_result"
    }
   ],
   "source": [
    "del model_pu, train_pu, valid_pu, train_pu_d, valid_pu_d\n",
    "\n",
    "gc.collect()"
   ]
  },
  {
   "cell_type": "markdown",
   "metadata": {},
   "source": [
    "##### Meter reading using square feet"
   ]
  },
  {
   "cell_type": "code",
   "execution_count": 48,
   "metadata": {},
   "outputs": [],
   "source": [
    "train_sf = train[[\"meter_reading\", \"square_feet\"]]\n",
    "valid_sf = valid[[\"meter_reading\", \"square_feet\"]]"
   ]
  },
  {
   "cell_type": "code",
   "execution_count": 49,
   "metadata": {},
   "outputs": [
    {
     "data": {
      "text/plain": [
       "BayesianRidge(alpha_1=1e-06, alpha_2=1e-06, compute_score=False, copy_X=True,\n",
       "              fit_intercept=False, lambda_1=1e-06, lambda_2=1e-06, n_iter=300,\n",
       "              normalize=False, tol=0.001, verbose=False)"
      ]
     },
     "execution_count": 49,
     "metadata": {},
     "output_type": "execute_result"
    }
   ],
   "source": [
    "model_sf = BayesianRidge(fit_intercept = False)\n",
    "model_sf.fit(train_sf.drop(\"meter_reading\", axis = 1), train_sf[\"meter_reading\"])"
   ]
  },
  {
   "cell_type": "code",
   "execution_count": 50,
   "metadata": {},
   "outputs": [
    {
     "name": "stdout",
     "output_type": "stream",
     "text": [
      "Model Coefficients:\n",
      "{'square_feet': 0.0018534519142449355}\n"
     ]
    }
   ],
   "source": [
    "pp = pprint.PrettyPrinter()\n",
    "print('Model Coefficients:')\n",
    "pp.pprint({col: coef for col, coef in zip(train_sf.columns[1:], model_sf.coef_)})"
   ]
  },
  {
   "cell_type": "code",
   "execution_count": 51,
   "metadata": {},
   "outputs": [
    {
     "data": {
      "text/plain": [
       "0.30281165902564244"
      ]
     },
     "execution_count": 51,
     "metadata": {},
     "output_type": "execute_result"
    }
   ],
   "source": [
    "model_sf.score(valid_sf.drop(\"meter_reading\", axis = 1), valid_sf[\"meter_reading\"])"
   ]
  },
  {
   "cell_type": "code",
   "execution_count": null,
   "metadata": {},
   "outputs": [],
   "source": [
    "del model_sf\n",
    "gc.collect()"
   ]
  },
  {
   "cell_type": "code",
   "execution_count": null,
   "metadata": {},
   "outputs": [],
   "source": [
    "# Residual Plot\n",
    "model_sf = BayesianRidge(fit_intercept=False)\n",
    "visualizer = ResidualsPlot(model_sf)\n",
    "\n",
    "visualizer.fit(train_sf.drop(\"meter_reading\", axis = 1), train_sf[\"meter_reading\"])\n",
    "visualizer.score(valid_sf.drop(\"meter_reading\", axis = 1), valid_sf[\"meter_reading\"])\n",
    "visualizer.show()   "
   ]
  },
  {
   "cell_type": "code",
   "execution_count": 52,
   "metadata": {},
   "outputs": [
    {
     "data": {
      "text/plain": [
       "95"
      ]
     },
     "execution_count": 52,
     "metadata": {},
     "output_type": "execute_result"
    }
   ],
   "source": [
    "del model_sf, train_sf, valid_sf, visualizer\n",
    "\n",
    "gc.collect()"
   ]
  },
  {
   "cell_type": "markdown",
   "metadata": {},
   "source": [
    "##### Meter reading using both square feet and primary reading (without interaction)"
   ]
  },
  {
   "cell_type": "code",
   "execution_count": 64,
   "metadata": {},
   "outputs": [],
   "source": [
    "train_bm = train[[\"meter_reading\", \"square_feet\" ,\"primary_use\"]]\n",
    "valid_bm = valid[[\"meter_reading\", \"square_feet\",\"primary_use\"]]\n",
    "train_bm = train_bm.dropna()\n",
    "valid_bm = valid_bm.dropna()\n",
    "\n",
    "train_bm_d = pd.get_dummies(train_bm)\n",
    "valid_bm_d = pd.get_dummies(valid_bm)"
   ]
  },
  {
   "cell_type": "code",
   "execution_count": 59,
   "metadata": {},
   "outputs": [
    {
     "data": {
      "text/plain": [
       "BayesianRidge(alpha_1=1e-06, alpha_2=1e-06, compute_score=False, copy_X=True,\n",
       "              fit_intercept=False, lambda_1=1e-06, lambda_2=1e-06, n_iter=300,\n",
       "              normalize=False, tol=0.001, verbose=False)"
      ]
     },
     "execution_count": 59,
     "metadata": {},
     "output_type": "execute_result"
    }
   ],
   "source": [
    "model_bm = BayesianRidge(fit_intercept=False)\n",
    "model_bm.fit(train_bm_d.drop(\"meter_reading\", axis = 1), train_bm_d[\"meter_reading\"])"
   ]
  },
  {
   "cell_type": "code",
   "execution_count": 60,
   "metadata": {},
   "outputs": [
    {
     "name": "stdout",
     "output_type": "stream",
     "text": [
      "Model Coefficients:\n",
      "{'primary_use_Education': 38.455249785320774,\n",
      " 'primary_use_Entertainment/public assembly': -42.56993340615213,\n",
      " 'primary_use_Food sales and service': 18.770913807313093,\n",
      " 'primary_use_Healthcare': 26.826075725319164,\n",
      " 'primary_use_Lodging/residential': -60.900703724787,\n",
      " 'primary_use_Manufacturing/industrial': 3.0852326097353426,\n",
      " 'primary_use_Office': -14.686916790063435,\n",
      " 'primary_use_Other': 6.506450647184465,\n",
      " 'primary_use_Parking': -509.24738142638614,\n",
      " 'primary_use_Public services': -29.83164205283711,\n",
      " 'primary_use_Religious worship': -16.277803585926605,\n",
      " 'primary_use_Retail': 61.71812169020613,\n",
      " 'primary_use_Services': -345.13957425420267,\n",
      " 'primary_use_Technology/science': 4.062706225218818,\n",
      " 'primary_use_Utility': 111.98982517354443,\n",
      " 'primary_use_Warehouse/storage': -44.085415457398554,\n",
      " 'square_feet': 0.001971677394362657}\n"
     ]
    }
   ],
   "source": [
    "pp = pprint.PrettyPrinter()\n",
    "print('Model Coefficients:')\n",
    "pp.pprint({col: coef for col, coef in zip(train_bm_d.columns[1:], model_bm.coef_)})"
   ]
  },
  {
   "cell_type": "code",
   "execution_count": 61,
   "metadata": {},
   "outputs": [
    {
     "data": {
      "text/plain": [
       "0.34400828751404666"
      ]
     },
     "execution_count": 61,
     "metadata": {},
     "output_type": "execute_result"
    }
   ],
   "source": [
    "model_bm.score(valid_bm_d.drop(\"meter_reading\", axis = 1), valid_bm_d[\"meter_reading\"])"
   ]
  },
  {
   "cell_type": "code",
   "execution_count": 66,
   "metadata": {},
   "outputs": [
    {
     "data": {
      "text/plain": [
       "58"
      ]
     },
     "execution_count": 66,
     "metadata": {},
     "output_type": "execute_result"
    }
   ],
   "source": [
    "del model_bm\n",
    "\n",
    "gc.collect()"
   ]
  },
  {
   "cell_type": "code",
   "execution_count": null,
   "metadata": {},
   "outputs": [],
   "source": [
    "# Residual Plot\n",
    "model_bm = BayesianRidge(fit_intercept=False)\n",
    "visualizer = ResidualsPlot(model_bm)\n",
    "\n",
    "visualizer.fit(train_bm_d.drop(\"meter_reading\", axis = 1), train_bm_d[\"meter_reading\"])\n",
    "visualizer.score(valid_bm_d.drop(\"meter_reading\", axis = 1), valid_bm_d[\"meter_reading\"])\n",
    "visualizer.show()   "
   ]
  },
  {
   "cell_type": "code",
   "execution_count": null,
   "metadata": {},
   "outputs": [],
   "source": [
    "del model_bm, train_bm_d, valid_bm_d, visualizer\n",
    "gc.collect()"
   ]
  },
  {
   "cell_type": "markdown",
   "metadata": {},
   "source": [
    "##### Meter reading using both square feet and primary reading (with interaction)"
   ]
  },
  {
   "cell_type": "code",
   "execution_count": null,
   "metadata": {},
   "outputs": [],
   "source": []
  }
 ],
 "metadata": {
  "kernelspec": {
   "display_name": "Python 3",
   "language": "python",
   "name": "python3"
  },
  "language_info": {
   "codemirror_mode": {
    "name": "ipython",
    "version": 3
   },
   "file_extension": ".py",
   "mimetype": "text/x-python",
   "name": "python",
   "nbconvert_exporter": "python",
   "pygments_lexer": "ipython3",
   "version": "3.7.3"
  }
 },
 "nbformat": 4,
 "nbformat_minor": 4
}
